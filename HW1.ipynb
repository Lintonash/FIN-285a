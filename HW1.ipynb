{
 "cells": [
  {
   "cell_type": "code",
   "execution_count": null,
   "metadata": {},
   "outputs": [],
   "source": [
    "import numpy\n",
    "#Linton"
   ]
  },
  {
   "cell_type": "code",
   "execution_count": 30,
   "metadata": {},
   "outputs": [
    {
     "name": "stdout",
     "output_type": "stream",
     "text": [
      "--- Problem 1.1.1 ---\n",
      "2520\n"
     ]
    }
   ],
   "source": [
    "list1 = list(range(12,101))\n",
    "list2 = []\n",
    "for i in range(len(list1)):\n",
    "    if i%2 == 0:\n",
    "        list2.append(list1[i])\n",
    "sum1 = sum(list2)\n",
    "\n",
    "print('--- Problem 1.1.1 ---') \n",
    "print(sum1)"
   ]
  },
  {
   "cell_type": "code",
   "execution_count": 31,
   "metadata": {},
   "outputs": [
    {
     "name": "stdout",
     "output_type": "stream",
     "text": [
      "--- Problem 1.1.2 ---\n",
      "2520\n"
     ]
    }
   ],
   "source": [
    "i = 0\n",
    "list3 = list(range(12,101))\n",
    "list4 = []\n",
    "while i <= len(list3):\n",
    "    list4.append(list3[i])\n",
    "    i+=2\n",
    "sum2 = sum(list4)\n",
    "\n",
    "print('--- Problem 1.1.2 ---') \n",
    "print(sum2)"
   ]
  },
  {
   "cell_type": "code",
   "execution_count": 33,
   "metadata": {},
   "outputs": [
    {
     "name": "stdout",
     "output_type": "stream",
     "text": [
      "--- Problem 1.2 ---\n",
      "4.0\n",
      "0.15226719722659335\n"
     ]
    }
   ],
   "source": [
    "import numpy as np \n",
    "\n",
    "number = int((5-3)/0.1 + 1)\n",
    "array1 = np.linspace(3.0,5.0,number)\n",
    "mean1 = np.mean(array1)\n",
    "array2 = np.sqrt(array1)\n",
    "std2 = np.std(array2)\n",
    "\n",
    "print('--- Problem 1.2 ---')\n",
    "print(mean1) \n",
    "print(std2)"
   ]
  },
  {
   "cell_type": "code",
   "execution_count": 34,
   "metadata": {},
   "outputs": [
    {
     "name": "stdout",
     "output_type": "stream",
     "text": [
      "--- Problem 1.3 ---\n",
      "1265\n"
     ]
    }
   ],
   "source": [
    "import numpy as np \n",
    "\n",
    "array3 = np.array(range(1,11))\n",
    "array4 = np.array(range(11,31,2))\n",
    "sum3 = np.dot(array3, array4)\n",
    "\n",
    "print('--- Problem 1.3 ---') \n",
    "print(sum3)"
   ]
  },
  {
   "cell_type": "code",
   "execution_count": 35,
   "metadata": {},
   "outputs": [
    {
     "name": "stdout",
     "output_type": "stream",
     "text": [
      "--- Problem 1.4 ---\n",
      "0.06286309491551037\n",
      "1.7281783728397049\n"
     ]
    }
   ],
   "source": [
    "import numpy as np \n",
    "\n",
    "mu1 = 0\n",
    "sigma1 = np.sqrt(3)\n",
    "\n",
    "array5 = np.random.normal(mu1, sigma1, 1000)\n",
    "mean2 = np.mean(array5)\n",
    "std3 = np.std(array5)\n",
    "\n",
    "print('--- Problem 1.4 ---') \n",
    "print(mean2)\n",
    "print(std3)"
   ]
  },
  {
   "cell_type": "code",
   "execution_count": 37,
   "metadata": {},
   "outputs": [
    {
     "name": "stdout",
     "output_type": "stream",
     "text": [
      "--- Problem 1.5 ---\n",
      "0.12116570415139741\n",
      "1.4157455821541718\n"
     ]
    }
   ],
   "source": [
    "import numpy as np\n",
    "\n",
    "mu2 = 0\n",
    "sigma2 = 2\n",
    "\n",
    "np.random.seed(1)\n",
    "array6 = np.random.normal(mu2, sigma2, 100)\n",
    "\n",
    "\n",
    "\n",
    "list5 = []\n",
    "for i in array6:\n",
    "    if i >= 0:\n",
    "        list5.append(i)\n",
    "    else:\n",
    "        list5.append(-i)\n",
    "\n",
    "array7 = np.array(list5)\n",
    "\n",
    "print('--- Problem 1.5 ---') \n",
    "print(np.mean(array6))\n",
    "print(np.mean(array7))"
   ]
  },
  {
   "cell_type": "code",
   "execution_count": 39,
   "metadata": {},
   "outputs": [
    {
     "name": "stdout",
     "output_type": "stream",
     "text": [
      "--- Problem 1.6 ---\n",
      "0.12116570415139741\n",
      "1.4157455821541718\n"
     ]
    }
   ],
   "source": [
    "import numpy as np\n",
    "\n",
    "mu2 = 0\n",
    "sigma2 = 2\n",
    "\n",
    "np.random.seed(1)\n",
    "array8 = np.random.normal(mu2, sigma2, 100)\n",
    "\n",
    "print('--- Problem 1.6 ---') \n",
    "print(np.mean(array8))\n",
    "\n",
    "array8[array8 < 0] = -array8[array8 < 0] \n",
    "\n",
    "print(np.mean(array8))"
   ]
  },
  {
   "cell_type": "code",
   "execution_count": 40,
   "metadata": {},
   "outputs": [
    {
     "name": "stdout",
     "output_type": "stream",
     "text": [
      "--- Problem 2 ---\n",
      "[1, 2, 3, 6, 12, 24, 48, 96, 192, 384, 768, 1536, 3072, 6144, 12288]\n"
     ]
    }
   ],
   "source": [
    "def fibonacci(n):\n",
    "    list1 = [1,2]\n",
    "    i = 3\n",
    "    while True:\n",
    "        x = sum(list1)\n",
    "        list1.append(x)\n",
    "        if i < n:\n",
    "            i += 1\n",
    "        else:\n",
    "            break\n",
    "    return list1\n",
    "\n",
    "print('--- Problem 2 ---') \n",
    "print(fibonacci(15))"
   ]
  },
  {
   "cell_type": "code",
   "execution_count": 41,
   "metadata": {},
   "outputs": [
    {
     "name": "stdout",
     "output_type": "stream",
     "text": [
      "--- Problem 2.1 ---\n",
      "[[1.0e+00 1.0e-02]\n",
      " [2.0e+00 3.0e-03]\n",
      " [3.0e+00 1.5e-02]\n",
      " [4.0e+00 2.6e-02]\n",
      " [5.0e+00 6.0e-03]]\n"
     ]
    }
   ],
   "source": [
    "import numpy as np\n",
    "\n",
    "matrix1 = np.matrix([[1,2,3,4,5],[0.01, 0.003, 0.015, 0.026, 0.006]])\n",
    "matrix2 = matrix1.transpose()\n",
    "\n",
    "print('--- Problem 2.1 ---') \n",
    "print(matrix2)"
   ]
  },
  {
   "cell_type": "code",
   "execution_count": 42,
   "metadata": {},
   "outputs": [
    {
     "name": "stdout",
     "output_type": "stream",
     "text": [
      "--- Problem 2.2 ---\n",
      "[0.01       0.01303    0.02822545 0.05495931 0.06128907]\n"
     ]
    }
   ],
   "source": [
    "import numpy as np\n",
    "\n",
    "daily_return = np.array([0.01, 0.003, 0.015, 0.026, 0.006]) + 1\n",
    "\n",
    "i = 0 \n",
    "list7 = []\n",
    "list7.append(daily_return[i])\n",
    "\n",
    "while True:\n",
    "    i += 1\n",
    "    result = daily_return[i] * list7[i-1]\n",
    "    list7.append(result)\n",
    "    if i >= (daily_return.size - 1):\n",
    "        break\n",
    "\n",
    "accumulate_return = np.array(list7) - 1\n",
    "\n",
    "print('--- Problem 2.2 ---') \n",
    "print(accumulate_return)"
   ]
  },
  {
   "cell_type": "code",
   "execution_count": 43,
   "metadata": {},
   "outputs": [
    {
     "name": "stdout",
     "output_type": "stream",
     "text": [
      "--- Problem 2.3 ---\n"
     ]
    },
    {
     "data": {
      "image/png": "[encoded data removed]",
      "text/plain": [
       "<Figure size 432x288 with 1 Axes>"
      ]
     },
     "metadata": {
      "needs_background": "light"
     },
     "output_type": "display_data"
    }
   ],
   "source": [
    "import numpy as np\n",
    "import matplotlib.pyplot as plt \n",
    "\n",
    "x = np.array([1,2,3,4,5])\n",
    "y = accumulate_return\n",
    "\n",
    "plt.plot(x, y, color = 'blue', linewidth = 2)\n",
    "plt.xlabel('day')\n",
    "plt.ylabel('cumulative return')\n",
    "\n",
    "print('--- Problem 2.3 ---') \n",
    "plt.show()"
   ]
  },
  {
   "cell_type": "code",
   "execution_count": null,
   "metadata": {},
   "outputs": [],
   "source": []
  }
 ],
 "metadata": {
  "kernelspec": {
   "display_name": "venv",
   "language": "python",
   "name": "venv"
  },
  "language_info": {
   "codemirror_mode": {
    "name": "ipython",
    "version": 3
   },
   "file_extension": ".py",
   "mimetype": "text/x-python",
   "name": "python",
   "nbconvert_exporter": "python",
   "pygments_lexer": "ipython3",
   "version": "3.7.0"
  }
 },
 "nbformat": 4,
 "nbformat_minor": 2
}
